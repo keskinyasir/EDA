{
  "nbformat": 4,
  "nbformat_minor": 0,
  "metadata": {
    "colab": {
      "provenance": [],
      "authorship_tag": "ABX9TyOIJG/sike9C6rpnCxioIPP",
      "include_colab_link": true
    },
    "kernelspec": {
      "name": "python3",
      "display_name": "Python 3"
    },
    "language_info": {
      "name": "python"
    }
  },
  "cells": [
    {
      "cell_type": "markdown",
      "metadata": {
        "id": "view-in-github",
        "colab_type": "text"
      },
      "source": [
        "<a href=\"https://colab.research.google.com/github/keskinyasir/EDA/blob/main/EDA.ipynb\" target=\"_parent\"><img src=\"https://colab.research.google.com/assets/colab-badge.svg\" alt=\"Open In Colab\"/></a>"
      ]
    },
    {
      "cell_type": "code",
      "execution_count": null,
      "metadata": {
        "id": "RoImGw2-O8jO"
      },
      "outputs": [],
      "source": [
        "# Replace NaN value to 0\n",
        "df[1] = df[1].replace(np.NaN, 0)\n",
        "\n",
        "# Use numerical values instead others\n",
        "df[1] = np.where(df[2]==‘’, 1, 0)\n",
        "\n",
        "df[1] = np.where(df[1] == 1, ‘First’,\n",
        "\t\t    np.where(df[1] == 2, ‘Second’, ‘Third’))\n",
        "\n",
        "# Drop features not needed for model\n",
        "df[1] = df[[f for f in list(df) if f not in [‘’,’’,’’]]]\n",
        "\n",
        "\n",
        "# Dummy all categorical fields\n",
        "\n",
        "def prepare_data_for_model(df, target_columns, drop_first=True, make_na_col=True):\n",
        "  dataframe_dummy = pd.get_dummies(df, columns=target_columns,\n",
        "                                   drop_first=drop_first,\n",
        "                                   dummy_na=make_na_col)\n",
        "  return (dataframe_dummy)\n",
        "# Create dummy features  \n",
        "df_ready = prepare_data_for_model(df, target_columns=['',''])\n",
        "\n",
        "# Split target column and features\n",
        "\n",
        "target_col = ''\n",
        "X = df.loc[:, df.columns != target_col]\n",
        "y = df.loc[:, target_col]"
      ]
    }
  ]
}